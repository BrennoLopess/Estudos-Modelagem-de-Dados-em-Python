{
 "cells": [
  {
   "cell_type": "markdown",
   "id": "87d2686b",
   "metadata": {},
   "source": [
    "# Tratamento de Dados"
   ]
  },
  {
   "cell_type": "code",
   "execution_count": 27,
   "id": "6fd3e1af",
   "metadata": {},
   "outputs": [
    {
     "data": {
      "text/plain": [
       "(448188, 24)"
      ]
     },
     "execution_count": 27,
     "metadata": {},
     "output_type": "execute_result"
    }
   ],
   "source": [
    "#DF_DADOS SERÁ O NOVO DATAFRAME QUE IREMOS MONTAR (COPIANDO DO ORIGINAL)\n",
    "df_dados = df_original.loc[df_original['QT_FILHOS'] <= 2]\n",
    "df_dados.shape"
   ]
  },
  {
   "cell_type": "code",
   "execution_count": 28,
   "id": "4d6e1106",
   "metadata": {},
   "outputs": [
    {
     "data": {
      "text/plain": [
       "QT_FILHOS\n",
       "0.0        10\n",
       "1.0    212353\n",
       "2.0    235825\n",
       "dtype: int64"
      ]
     },
     "execution_count": 28,
     "metadata": {},
     "output_type": "execute_result"
    }
   ],
   "source": [
    "df_dados.groupby(['QT_FILHOS']).size()"
   ]
  },
  {
   "cell_type": "code",
   "execution_count": 29,
   "id": "ee4fd628",
   "metadata": {},
   "outputs": [
    {
     "name": "stdout",
     "output_type": "stream",
     "text": [
      "Média de filhos:  1.5261519719403465\n",
      "Mediana de filhos:  2.0\n",
      "Moda:  0    2.0\n",
      "Name: QT_FILHOS, dtype: float64\n"
     ]
    }
   ],
   "source": [
    "print(\"Média de filhos: \", df_dados['QT_FILHOS'].mean())\n",
    "print(\"Mediana de filhos: \", df_dados['QT_FILHOS'].median())\n",
    "print(\"Moda: \", df_dados['QT_FILHOS'].mode())"
   ]
  },
  {
   "cell_type": "code",
   "execution_count": 30,
   "id": "620ac55c",
   "metadata": {},
   "outputs": [
    {
     "data": {
      "text/plain": [
       "ID_CLIENTE                          0\n",
       "FORMA_AQUISICAO                     0\n",
       "IDADE_CLIENTE                       0\n",
       "SEXO                                0\n",
       "QT_FILHOS                           0\n",
       "DT_AQUISICAO                        0\n",
       "DT_CANCELAMENTO                330987\n",
       "DIAS_ATIVO                          0\n",
       "MESES_ATIVO                         0\n",
       "DURACAO_CONTRATO                    0\n",
       "VL_PLANO_ADESAO                     0\n",
       "VL_PLANO_ATUAL                      0\n",
       "NOME_PRODUTO                        0\n",
       "QT_PONTOS_INSTALADOS                0\n",
       "QT_PC_PAGAS                         0\n",
       "QT_PC_VENCIDAS                      0\n",
       "QT_PC_PAGA_ATRASO                   0\n",
       "QT_PC_PAGA_EM_DIA                   0\n",
       "QT_ACORDO_PAGAMENTO                 0\n",
       "VL_MENSALIDADE_ATRASO               0\n",
       "VL_MENSALIDADE_DT_AQUISICAO         0\n",
       "VL_MENSALIDADE_DT_ATUAL             0\n",
       "SITUACAO                            0\n",
       "COD_SITUACAO                        0\n",
       "dtype: int64"
      ]
     },
     "execution_count": 30,
     "metadata": {},
     "output_type": "execute_result"
    }
   ],
   "source": [
    "# Preencheremos os valores NULOS com a mediana dos dados\n",
    "df_dados['QT_FILHOS'] = df_dados['QT_FILHOS'].fillna((df_dados['QT_FILHOS'].median()))\n",
    "df_dados.isnull().sum()"
   ]
  },
  {
   "cell_type": "code",
   "execution_count": 31,
   "id": "670d9629",
   "metadata": {},
   "outputs": [],
   "source": [
    "# Substituindo os dados da variavel DURACAO_CONTRATO para mantermos somente os números\n",
    "df_dados['DURACAO_CONTRATO'] = df_dados['DURACAO_CONTRATO'].replace(['12 Meses'], 12)\n",
    "df_dados['DURACAO_CONTRATO'] = df_dados['DURACAO_CONTRATO'].replace(['24 Meses'], 24)\n",
    "df_dados['DURACAO_CONTRATO'] = df_dados['DURACAO_CONTRATO'].replace(['36 Meses'], 36)\n",
    "df_dados['DURACAO_CONTRATO'] = df_dados['DURACAO_CONTRATO'].replace(['48 Meses'], 48)"
   ]
  },
  {
   "cell_type": "code",
   "execution_count": 32,
   "id": "8c4abc38",
   "metadata": {},
   "outputs": [
    {
     "data": {
      "text/html": [
       "<div>\n",
       "<style scoped>\n",
       "    .dataframe tbody tr th:only-of-type {\n",
       "        vertical-align: middle;\n",
       "    }\n",
       "\n",
       "    .dataframe tbody tr th {\n",
       "        vertical-align: top;\n",
       "    }\n",
       "\n",
       "    .dataframe thead th {\n",
       "        text-align: right;\n",
       "    }\n",
       "</style>\n",
       "<table border=\"1\" class=\"dataframe\">\n",
       "  <thead>\n",
       "    <tr style=\"text-align: right;\">\n",
       "      <th></th>\n",
       "      <th>ID_CLIENTE</th>\n",
       "      <th>FORMA_AQUISICAO</th>\n",
       "      <th>IDADE_CLIENTE</th>\n",
       "      <th>SEXO</th>\n",
       "      <th>QT_FILHOS</th>\n",
       "      <th>DT_AQUISICAO</th>\n",
       "      <th>DT_CANCELAMENTO</th>\n",
       "      <th>DIAS_ATIVO</th>\n",
       "      <th>MESES_ATIVO</th>\n",
       "      <th>DURACAO_CONTRATO</th>\n",
       "      <th>VL_PLANO_ADESAO</th>\n",
       "      <th>VL_PLANO_ATUAL</th>\n",
       "      <th>NOME_PRODUTO</th>\n",
       "      <th>QT_PONTOS_INSTALADOS</th>\n",
       "      <th>QT_PC_PAGAS</th>\n",
       "      <th>QT_PC_VENCIDAS</th>\n",
       "      <th>QT_PC_PAGA_ATRASO</th>\n",
       "      <th>QT_PC_PAGA_EM_DIA</th>\n",
       "      <th>QT_ACORDO_PAGAMENTO</th>\n",
       "      <th>VL_MENSALIDADE_ATRASO</th>\n",
       "      <th>VL_MENSALIDADE_DT_AQUISICAO</th>\n",
       "      <th>VL_MENSALIDADE_DT_ATUAL</th>\n",
       "      <th>SITUACAO</th>\n",
       "      <th>COD_SITUACAO</th>\n",
       "    </tr>\n",
       "  </thead>\n",
       "  <tbody>\n",
       "    <tr>\n",
       "      <th>0</th>\n",
       "      <td>1</td>\n",
       "      <td>Site</td>\n",
       "      <td>23</td>\n",
       "      <td>MASCULINO</td>\n",
       "      <td>0.0</td>\n",
       "      <td>18/06/2021</td>\n",
       "      <td>NaN</td>\n",
       "      <td>33</td>\n",
       "      <td>1</td>\n",
       "      <td>48</td>\n",
       "      <td>450</td>\n",
       "      <td>518</td>\n",
       "      <td>PLANO FAMILIA (100 CANAIS HD)</td>\n",
       "      <td>1</td>\n",
       "      <td>1</td>\n",
       "      <td>4</td>\n",
       "      <td>0</td>\n",
       "      <td>1</td>\n",
       "      <td>1</td>\n",
       "      <td>2070</td>\n",
       "      <td>450</td>\n",
       "      <td>518</td>\n",
       "      <td>ATIVO</td>\n",
       "      <td>0</td>\n",
       "    </tr>\n",
       "    <tr>\n",
       "      <th>1</th>\n",
       "      <td>2</td>\n",
       "      <td>Vendedor</td>\n",
       "      <td>24</td>\n",
       "      <td>FEMININO</td>\n",
       "      <td>0.0</td>\n",
       "      <td>10/04/2018</td>\n",
       "      <td>NaN</td>\n",
       "      <td>1198</td>\n",
       "      <td>39</td>\n",
       "      <td>48</td>\n",
       "      <td>230</td>\n",
       "      <td>265</td>\n",
       "      <td>PLANO BASICO (30 CANAIS HD)</td>\n",
       "      <td>2</td>\n",
       "      <td>5</td>\n",
       "      <td>0</td>\n",
       "      <td>1</td>\n",
       "      <td>4</td>\n",
       "      <td>0</td>\n",
       "      <td>0</td>\n",
       "      <td>230</td>\n",
       "      <td>265</td>\n",
       "      <td>ATIVO</td>\n",
       "      <td>0</td>\n",
       "    </tr>\n",
       "    <tr>\n",
       "      <th>2</th>\n",
       "      <td>3</td>\n",
       "      <td>Site</td>\n",
       "      <td>25</td>\n",
       "      <td>MASCULINO</td>\n",
       "      <td>0.0</td>\n",
       "      <td>09/10/2020</td>\n",
       "      <td>NaN</td>\n",
       "      <td>285</td>\n",
       "      <td>9</td>\n",
       "      <td>48</td>\n",
       "      <td>290</td>\n",
       "      <td>334</td>\n",
       "      <td>PLANO BASICO PLUS (50 CANAIS HD)</td>\n",
       "      <td>3</td>\n",
       "      <td>5</td>\n",
       "      <td>0</td>\n",
       "      <td>3</td>\n",
       "      <td>2</td>\n",
       "      <td>0</td>\n",
       "      <td>0</td>\n",
       "      <td>290</td>\n",
       "      <td>334</td>\n",
       "      <td>ATIVO</td>\n",
       "      <td>0</td>\n",
       "    </tr>\n",
       "    <tr>\n",
       "      <th>4</th>\n",
       "      <td>5</td>\n",
       "      <td>Vendedor</td>\n",
       "      <td>27</td>\n",
       "      <td>MASCULINO</td>\n",
       "      <td>0.0</td>\n",
       "      <td>19/09/2019</td>\n",
       "      <td>NaN</td>\n",
       "      <td>671</td>\n",
       "      <td>22</td>\n",
       "      <td>48</td>\n",
       "      <td>230</td>\n",
       "      <td>265</td>\n",
       "      <td>PLANO BASICO (30 CANAIS HD)</td>\n",
       "      <td>2</td>\n",
       "      <td>5</td>\n",
       "      <td>0</td>\n",
       "      <td>5</td>\n",
       "      <td>0</td>\n",
       "      <td>0</td>\n",
       "      <td>0</td>\n",
       "      <td>230</td>\n",
       "      <td>265</td>\n",
       "      <td>ATIVO</td>\n",
       "      <td>0</td>\n",
       "    </tr>\n",
       "    <tr>\n",
       "      <th>5</th>\n",
       "      <td>6</td>\n",
       "      <td>Vendedor</td>\n",
       "      <td>28</td>\n",
       "      <td>FEMININO</td>\n",
       "      <td>1.0</td>\n",
       "      <td>23/03/2018</td>\n",
       "      <td>NaN</td>\n",
       "      <td>1216</td>\n",
       "      <td>40</td>\n",
       "      <td>48</td>\n",
       "      <td>230</td>\n",
       "      <td>265</td>\n",
       "      <td>PLANO BASICO (30 CANAIS HD)</td>\n",
       "      <td>3</td>\n",
       "      <td>5</td>\n",
       "      <td>0</td>\n",
       "      <td>0</td>\n",
       "      <td>5</td>\n",
       "      <td>0</td>\n",
       "      <td>0</td>\n",
       "      <td>230</td>\n",
       "      <td>265</td>\n",
       "      <td>ATIVO</td>\n",
       "      <td>0</td>\n",
       "    </tr>\n",
       "  </tbody>\n",
       "</table>\n",
       "</div>"
      ],
      "text/plain": [
       "   ID_CLIENTE FORMA_AQUISICAO  IDADE_CLIENTE       SEXO  QT_FILHOS  \\\n",
       "0           1            Site             23  MASCULINO        0.0   \n",
       "1           2        Vendedor             24   FEMININO        0.0   \n",
       "2           3            Site             25  MASCULINO        0.0   \n",
       "4           5        Vendedor             27  MASCULINO        0.0   \n",
       "5           6        Vendedor             28   FEMININO        1.0   \n",
       "\n",
       "  DT_AQUISICAO DT_CANCELAMENTO  DIAS_ATIVO  MESES_ATIVO  DURACAO_CONTRATO  \\\n",
       "0   18/06/2021             NaN          33            1                48   \n",
       "1   10/04/2018             NaN        1198           39                48   \n",
       "2   09/10/2020             NaN         285            9                48   \n",
       "4   19/09/2019             NaN         671           22                48   \n",
       "5   23/03/2018             NaN        1216           40                48   \n",
       "\n",
       "   VL_PLANO_ADESAO  VL_PLANO_ATUAL                      NOME_PRODUTO  \\\n",
       "0              450             518     PLANO FAMILIA (100 CANAIS HD)   \n",
       "1              230             265       PLANO BASICO (30 CANAIS HD)   \n",
       "2              290             334  PLANO BASICO PLUS (50 CANAIS HD)   \n",
       "4              230             265       PLANO BASICO (30 CANAIS HD)   \n",
       "5              230             265       PLANO BASICO (30 CANAIS HD)   \n",
       "\n",
       "   QT_PONTOS_INSTALADOS  QT_PC_PAGAS  QT_PC_VENCIDAS  QT_PC_PAGA_ATRASO  \\\n",
       "0                     1            1               4                  0   \n",
       "1                     2            5               0                  1   \n",
       "2                     3            5               0                  3   \n",
       "4                     2            5               0                  5   \n",
       "5                     3            5               0                  0   \n",
       "\n",
       "   QT_PC_PAGA_EM_DIA  QT_ACORDO_PAGAMENTO  VL_MENSALIDADE_ATRASO  \\\n",
       "0                  1                    1                   2070   \n",
       "1                  4                    0                      0   \n",
       "2                  2                    0                      0   \n",
       "4                  0                    0                      0   \n",
       "5                  5                    0                      0   \n",
       "\n",
       "   VL_MENSALIDADE_DT_AQUISICAO  VL_MENSALIDADE_DT_ATUAL SITUACAO  COD_SITUACAO  \n",
       "0                          450                      518    ATIVO             0  \n",
       "1                          230                      265    ATIVO             0  \n",
       "2                          290                      334    ATIVO             0  \n",
       "4                          230                      265    ATIVO             0  \n",
       "5                          230                      265    ATIVO             0  "
      ]
     },
     "execution_count": 32,
     "metadata": {},
     "output_type": "execute_result"
    }
   ],
   "source": [
    "# Visualizando as primeiras linhas do dataset\n",
    "df_dados.head()"
   ]
  },
  {
   "cell_type": "code",
   "execution_count": 33,
   "id": "a087d7ef",
   "metadata": {},
   "outputs": [
    {
     "name": "stdout",
     "output_type": "stream",
     "text": [
      "<class 'pandas.core.frame.DataFrame'>\n",
      "Index: 448188 entries, 0 to 448446\n",
      "Data columns (total 24 columns):\n",
      " #   Column                       Non-Null Count   Dtype  \n",
      "---  ------                       --------------   -----  \n",
      " 0   ID_CLIENTE                   448188 non-null  int64  \n",
      " 1   FORMA_AQUISICAO              448188 non-null  object \n",
      " 2   IDADE_CLIENTE                448188 non-null  int64  \n",
      " 3   SEXO                         448188 non-null  object \n",
      " 4   QT_FILHOS                    448188 non-null  float64\n",
      " 5   DT_AQUISICAO                 448188 non-null  object \n",
      " 6   DT_CANCELAMENTO              117201 non-null  object \n",
      " 7   DIAS_ATIVO                   448188 non-null  int64  \n",
      " 8   MESES_ATIVO                  448188 non-null  int64  \n",
      " 9   DURACAO_CONTRATO             448188 non-null  int64  \n",
      " 10  VL_PLANO_ADESAO              448188 non-null  int64  \n",
      " 11  VL_PLANO_ATUAL               448188 non-null  int64  \n",
      " 12  NOME_PRODUTO                 448188 non-null  object \n",
      " 13  QT_PONTOS_INSTALADOS         448188 non-null  int64  \n",
      " 14  QT_PC_PAGAS                  448188 non-null  int64  \n",
      " 15  QT_PC_VENCIDAS               448188 non-null  int64  \n",
      " 16  QT_PC_PAGA_ATRASO            448188 non-null  int64  \n",
      " 17  QT_PC_PAGA_EM_DIA            448188 non-null  int64  \n",
      " 18  QT_ACORDO_PAGAMENTO          448188 non-null  int64  \n",
      " 19  VL_MENSALIDADE_ATRASO        448188 non-null  int64  \n",
      " 20  VL_MENSALIDADE_DT_AQUISICAO  448188 non-null  int64  \n",
      " 21  VL_MENSALIDADE_DT_ATUAL      448188 non-null  int64  \n",
      " 22  SITUACAO                     448188 non-null  object \n",
      " 23  COD_SITUACAO                 448188 non-null  int64  \n",
      "dtypes: float64(1), int64(17), object(6)\n",
      "memory usage: 85.5+ MB\n"
     ]
    }
   ],
   "source": [
    "# Visualizando as informações dos tipos de variaveis\n",
    "#DURACAO_CONTRATO ESTAVA COMO OBJETO E AGORA ESTA COMO INTEIRO\n",
    "df_dados.info()"
   ]
  },
  {
   "cell_type": "code",
   "execution_count": 34,
   "id": "43369901",
   "metadata": {},
   "outputs": [
    {
     "name": "stdout",
     "output_type": "stream",
     "text": [
      "100\n",
      "100\n"
     ]
    }
   ],
   "source": [
    "# Identificando as quantidades máximas para tratar os OUTLIERS\n",
    "print(df_dados['QT_PC_PAGAS'].max())\n",
    "print(df_dados['QT_PC_PAGA_EM_DIA'].max())\n",
    "\n",
    "\n",
    "#Maior é 100 porém o contrato máximo é de 48 (???) Como pagar 100 parcelas se o máximo é 48"
   ]
  },
  {
   "cell_type": "code",
   "execution_count": 35,
   "id": "4201881d",
   "metadata": {},
   "outputs": [],
   "source": [
    "# Registros que possuirem as quantidades superiores a duração do contrato, iremos alterar e colocar o número de duração contrato\n",
    "df_dados.loc[df_dados.QT_PC_PAGAS > df_dados.DURACAO_CONTRATO, 'QT_PC_PAGAS'] = df_dados.DURACAO_CONTRATO\n",
    "df_dados.loc[df_dados.QT_PC_PAGA_EM_DIA > df_dados.DURACAO_CONTRATO, 'QT_PC_PAGA_EM_DIA'] = df_dados.DURACAO_CONTRATO"
   ]
  },
  {
   "cell_type": "code",
   "execution_count": 36,
   "id": "7ad52e48",
   "metadata": {},
   "outputs": [
    {
     "name": "stdout",
     "output_type": "stream",
     "text": [
      "48\n",
      "48\n"
     ]
    }
   ],
   "source": [
    "# Verificando se as variáveis foram ajustadas\n",
    "print(df_dados['QT_PC_PAGAS'].max())\n",
    "print(df_dados['QT_PC_PAGA_EM_DIA'].max())"
   ]
  },
  {
   "cell_type": "code",
   "execution_count": null,
   "id": "630fb910",
   "metadata": {},
   "outputs": [],
   "source": []
  }
 ],
 "metadata": {
  "kernelspec": {
   "display_name": "Python 3 (ipykernel)",
   "language": "python",
   "name": "python3"
  },
  "language_info": {
   "codemirror_mode": {
    "name": "ipython",
    "version": 3
   },
   "file_extension": ".py",
   "mimetype": "text/x-python",
   "name": "python",
   "nbconvert_exporter": "python",
   "pygments_lexer": "ipython3",
   "version": "3.11.5"
  }
 },
 "nbformat": 4,
 "nbformat_minor": 5
}
