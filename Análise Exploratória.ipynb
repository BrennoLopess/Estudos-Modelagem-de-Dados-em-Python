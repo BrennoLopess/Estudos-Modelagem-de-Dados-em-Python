{
 "cells": [
  {
   "cell_type": "markdown",
   "id": "248fb336",
   "metadata": {},
   "source": [
    "# Análise Exploratória"
   ]
  },
  {
   "cell_type": "code",
   "execution_count": 2,
   "id": "e4eeea0a",
   "metadata": {},
   "outputs": [
    {
     "name": "stdout",
     "output_type": "stream",
     "text": [
      "Requirement already satisfied: scikit-learn in c:\\users\\brenn\\anaconda3\\lib\\site-packages (1.5.2)\n",
      "Requirement already satisfied: imbalanced-learn in c:\\users\\brenn\\anaconda3\\lib\\site-packages (0.12.4)\n",
      "Requirement already satisfied: numpy>=1.19.5 in c:\\users\\brenn\\anaconda3\\lib\\site-packages (from scikit-learn) (1.24.3)\n",
      "Requirement already satisfied: scipy>=1.6.0 in c:\\users\\brenn\\anaconda3\\lib\\site-packages (from scikit-learn) (1.11.1)\n",
      "Requirement already satisfied: joblib>=1.2.0 in c:\\users\\brenn\\anaconda3\\lib\\site-packages (from scikit-learn) (1.2.0)\n",
      "Requirement already satisfied: threadpoolctl>=3.1.0 in c:\\users\\brenn\\anaconda3\\lib\\site-packages (from scikit-learn) (3.5.0)\n"
     ]
    }
   ],
   "source": [
    "!pip install -U scikit-learn imbalanced-learn\n",
    "#Baixando bibliotecas\n",
    "\n",
    "#Passo 1 - Importar os pacotes e bibliotecas que serão utilizados!\n",
    "\n",
    "#Manipulação de Tratamento dos Dados:\n",
    "import numpy as np\n",
    "import pandas as pd\n",
    "import time #(Utilizado para funções de tempo)\n",
    "import matplotlib.pyplot as plt #(Utilizado para Gráficos)\n",
    "import seaborn as sns #(Utilizado para Gráficos)\n",
    "\n",
    "\n",
    "#Bibliotecas do Skit Learn\n",
    "from sklearn.model_selection import train_test_split #Separar dados para treino e teste\n",
    "from sklearn.preprocessing import StandardScaler #Fazer Padronização dos dados\n",
    "from sklearn.preprocessing import LabelEncoder #Fazer o OneHotEncoding\n",
    "from sklearn.metrics import accuracy_score #Avaliar Acurácia do modelo preditivo\n",
    "from sklearn.neighbors import KNeighborsClassifier #Algoritmo para criação do modelo\n",
    "from imblearn import under_sampling, over_sampling #Fazer Balanceamento de dados\n",
    "from imblearn.over_sampling import SMOTE #Balanceamento de dados\n",
    "\n",
    "#Remover avisos de alerta\n",
    "import warnings\n",
    "warnings.filterwarnings(\"ignore\")\n",
    "\n",
    "#Para nao limitar a exibição do DataFrame\n",
    "pd.set_option('display.max_columns', None)\n",
    "pd.set_option('display.max_rows', None)\n",
    "#pd.options.display.float_format = '{:.2f}'.format"
   ]
  },
  {
   "cell_type": "markdown",
   "id": "ba8831d9",
   "metadata": {},
   "source": [
    "### Coleta de Dados:"
   ]
  },
  {
   "cell_type": "code",
   "execution_count": 3,
   "id": "abc4b11c",
   "metadata": {},
   "outputs": [],
   "source": [
    "df_original = pd.read_csv(\"dados.csv\", sep = ';')"
   ]
  },
  {
   "cell_type": "markdown",
   "id": "3d9e7056",
   "metadata": {},
   "source": [
    "### Começo da Análise Exploratória:"
   ]
  },
  {
   "cell_type": "code",
   "execution_count": 4,
   "id": "38c55087",
   "metadata": {},
   "outputs": [
    {
     "data": {
      "text/plain": [
       "(448447, 24)"
      ]
     },
     "execution_count": 4,
     "metadata": {},
     "output_type": "execute_result"
    }
   ],
   "source": [
    "df_original.shape\n",
    "#448 mil infos\n",
    "#24 variáveis"
   ]
  },
  {
   "cell_type": "code",
   "execution_count": 5,
   "id": "2911e4bb",
   "metadata": {},
   "outputs": [
    {
     "data": {
      "text/html": [
       "<div>\n",
       "<style scoped>\n",
       "    .dataframe tbody tr th:only-of-type {\n",
       "        vertical-align: middle;\n",
       "    }\n",
       "\n",
       "    .dataframe tbody tr th {\n",
       "        vertical-align: top;\n",
       "    }\n",
       "\n",
       "    .dataframe thead th {\n",
       "        text-align: right;\n",
       "    }\n",
       "</style>\n",
       "<table border=\"1\" class=\"dataframe\">\n",
       "  <thead>\n",
       "    <tr style=\"text-align: right;\">\n",
       "      <th></th>\n",
       "      <th>ID_CLIENTE</th>\n",
       "      <th>FORMA_AQUISICAO</th>\n",
       "      <th>IDADE_CLIENTE</th>\n",
       "      <th>SEXO</th>\n",
       "      <th>QT_FILHOS</th>\n",
       "      <th>DT_AQUISICAO</th>\n",
       "      <th>DT_CANCELAMENTO</th>\n",
       "      <th>DIAS_ATIVO</th>\n",
       "      <th>MESES_ATIVO</th>\n",
       "      <th>DURACAO_CONTRATO</th>\n",
       "      <th>VL_PLANO_ADESAO</th>\n",
       "      <th>VL_PLANO_ATUAL</th>\n",
       "      <th>NOME_PRODUTO</th>\n",
       "      <th>QT_PONTOS_INSTALADOS</th>\n",
       "      <th>QT_PC_PAGAS</th>\n",
       "      <th>QT_PC_VENCIDAS</th>\n",
       "      <th>QT_PC_PAGA_ATRASO</th>\n",
       "      <th>QT_PC_PAGA_EM_DIA</th>\n",
       "      <th>QT_ACORDO_PAGAMENTO</th>\n",
       "      <th>VL_MENSALIDADE_ATRASO</th>\n",
       "      <th>VL_MENSALIDADE_DT_AQUISICAO</th>\n",
       "      <th>VL_MENSALIDADE_DT_ATUAL</th>\n",
       "      <th>SITUACAO</th>\n",
       "      <th>COD_SITUACAO</th>\n",
       "    </tr>\n",
       "  </thead>\n",
       "  <tbody>\n",
       "    <tr>\n",
       "      <th>0</th>\n",
       "      <td>1</td>\n",
       "      <td>Site</td>\n",
       "      <td>23</td>\n",
       "      <td>MASCULINO</td>\n",
       "      <td>0.0</td>\n",
       "      <td>18/06/2021</td>\n",
       "      <td>NaN</td>\n",
       "      <td>33</td>\n",
       "      <td>1</td>\n",
       "      <td>48 Meses</td>\n",
       "      <td>450</td>\n",
       "      <td>518</td>\n",
       "      <td>PLANO FAMILIA (100 CANAIS HD)</td>\n",
       "      <td>1</td>\n",
       "      <td>1</td>\n",
       "      <td>4</td>\n",
       "      <td>0</td>\n",
       "      <td>1</td>\n",
       "      <td>1</td>\n",
       "      <td>2070</td>\n",
       "      <td>450</td>\n",
       "      <td>518</td>\n",
       "      <td>ATIVO</td>\n",
       "      <td>0</td>\n",
       "    </tr>\n",
       "    <tr>\n",
       "      <th>1</th>\n",
       "      <td>2</td>\n",
       "      <td>Vendedor</td>\n",
       "      <td>24</td>\n",
       "      <td>FEMININO</td>\n",
       "      <td>0.0</td>\n",
       "      <td>10/04/2018</td>\n",
       "      <td>NaN</td>\n",
       "      <td>1198</td>\n",
       "      <td>39</td>\n",
       "      <td>48 Meses</td>\n",
       "      <td>230</td>\n",
       "      <td>265</td>\n",
       "      <td>PLANO BASICO (30 CANAIS HD)</td>\n",
       "      <td>2</td>\n",
       "      <td>5</td>\n",
       "      <td>0</td>\n",
       "      <td>1</td>\n",
       "      <td>4</td>\n",
       "      <td>0</td>\n",
       "      <td>0</td>\n",
       "      <td>230</td>\n",
       "      <td>265</td>\n",
       "      <td>ATIVO</td>\n",
       "      <td>0</td>\n",
       "    </tr>\n",
       "    <tr>\n",
       "      <th>2</th>\n",
       "      <td>3</td>\n",
       "      <td>Site</td>\n",
       "      <td>25</td>\n",
       "      <td>MASCULINO</td>\n",
       "      <td>0.0</td>\n",
       "      <td>09/10/2020</td>\n",
       "      <td>NaN</td>\n",
       "      <td>285</td>\n",
       "      <td>9</td>\n",
       "      <td>48 Meses</td>\n",
       "      <td>290</td>\n",
       "      <td>334</td>\n",
       "      <td>PLANO BASICO PLUS (50 CANAIS HD)</td>\n",
       "      <td>3</td>\n",
       "      <td>5</td>\n",
       "      <td>0</td>\n",
       "      <td>3</td>\n",
       "      <td>2</td>\n",
       "      <td>0</td>\n",
       "      <td>0</td>\n",
       "      <td>290</td>\n",
       "      <td>334</td>\n",
       "      <td>ATIVO</td>\n",
       "      <td>0</td>\n",
       "    </tr>\n",
       "    <tr>\n",
       "      <th>3</th>\n",
       "      <td>4</td>\n",
       "      <td>Vendedor</td>\n",
       "      <td>26</td>\n",
       "      <td>FEMININO</td>\n",
       "      <td>17.0</td>\n",
       "      <td>25/06/2019</td>\n",
       "      <td>NaN</td>\n",
       "      <td>757</td>\n",
       "      <td>25</td>\n",
       "      <td>48 Meses</td>\n",
       "      <td>230</td>\n",
       "      <td>265</td>\n",
       "      <td>PLANO BASICO (30 CANAIS HD)</td>\n",
       "      <td>1</td>\n",
       "      <td>5</td>\n",
       "      <td>0</td>\n",
       "      <td>1</td>\n",
       "      <td>4</td>\n",
       "      <td>0</td>\n",
       "      <td>0</td>\n",
       "      <td>230</td>\n",
       "      <td>265</td>\n",
       "      <td>ATIVO</td>\n",
       "      <td>0</td>\n",
       "    </tr>\n",
       "    <tr>\n",
       "      <th>4</th>\n",
       "      <td>5</td>\n",
       "      <td>Vendedor</td>\n",
       "      <td>27</td>\n",
       "      <td>MASCULINO</td>\n",
       "      <td>0.0</td>\n",
       "      <td>19/09/2019</td>\n",
       "      <td>NaN</td>\n",
       "      <td>671</td>\n",
       "      <td>22</td>\n",
       "      <td>48 Meses</td>\n",
       "      <td>230</td>\n",
       "      <td>265</td>\n",
       "      <td>PLANO BASICO (30 CANAIS HD)</td>\n",
       "      <td>2</td>\n",
       "      <td>5</td>\n",
       "      <td>0</td>\n",
       "      <td>5</td>\n",
       "      <td>0</td>\n",
       "      <td>0</td>\n",
       "      <td>0</td>\n",
       "      <td>230</td>\n",
       "      <td>265</td>\n",
       "      <td>ATIVO</td>\n",
       "      <td>0</td>\n",
       "    </tr>\n",
       "  </tbody>\n",
       "</table>\n",
       "</div>"
      ],
      "text/plain": [
       "   ID_CLIENTE FORMA_AQUISICAO  IDADE_CLIENTE       SEXO  QT_FILHOS  \\\n",
       "0           1            Site             23  MASCULINO        0.0   \n",
       "1           2        Vendedor             24   FEMININO        0.0   \n",
       "2           3            Site             25  MASCULINO        0.0   \n",
       "3           4        Vendedor             26   FEMININO       17.0   \n",
       "4           5        Vendedor             27  MASCULINO        0.0   \n",
       "\n",
       "  DT_AQUISICAO DT_CANCELAMENTO  DIAS_ATIVO  MESES_ATIVO DURACAO_CONTRATO  \\\n",
       "0   18/06/2021             NaN          33            1         48 Meses   \n",
       "1   10/04/2018             NaN        1198           39         48 Meses   \n",
       "2   09/10/2020             NaN         285            9         48 Meses   \n",
       "3   25/06/2019             NaN         757           25         48 Meses   \n",
       "4   19/09/2019             NaN         671           22         48 Meses   \n",
       "\n",
       "   VL_PLANO_ADESAO  VL_PLANO_ATUAL                      NOME_PRODUTO  \\\n",
       "0              450             518     PLANO FAMILIA (100 CANAIS HD)   \n",
       "1              230             265       PLANO BASICO (30 CANAIS HD)   \n",
       "2              290             334  PLANO BASICO PLUS (50 CANAIS HD)   \n",
       "3              230             265       PLANO BASICO (30 CANAIS HD)   \n",
       "4              230             265       PLANO BASICO (30 CANAIS HD)   \n",
       "\n",
       "   QT_PONTOS_INSTALADOS  QT_PC_PAGAS  QT_PC_VENCIDAS  QT_PC_PAGA_ATRASO  \\\n",
       "0                     1            1               4                  0   \n",
       "1                     2            5               0                  1   \n",
       "2                     3            5               0                  3   \n",
       "3                     1            5               0                  1   \n",
       "4                     2            5               0                  5   \n",
       "\n",
       "   QT_PC_PAGA_EM_DIA  QT_ACORDO_PAGAMENTO  VL_MENSALIDADE_ATRASO  \\\n",
       "0                  1                    1                   2070   \n",
       "1                  4                    0                      0   \n",
       "2                  2                    0                      0   \n",
       "3                  4                    0                      0   \n",
       "4                  0                    0                      0   \n",
       "\n",
       "   VL_MENSALIDADE_DT_AQUISICAO  VL_MENSALIDADE_DT_ATUAL SITUACAO  COD_SITUACAO  \n",
       "0                          450                      518    ATIVO             0  \n",
       "1                          230                      265    ATIVO             0  \n",
       "2                          290                      334    ATIVO             0  \n",
       "3                          230                      265    ATIVO             0  \n",
       "4                          230                      265    ATIVO             0  "
      ]
     },
     "execution_count": 5,
     "metadata": {},
     "output_type": "execute_result"
    }
   ],
   "source": [
    "df_original.head()\n",
    "#Ver as 5 primeiras linhas"
   ]
  },
  {
   "cell_type": "code",
   "execution_count": 7,
   "id": "955bf68c",
   "metadata": {},
   "outputs": [
    {
     "name": "stdout",
     "output_type": "stream",
     "text": [
      "<class 'pandas.core.frame.DataFrame'>\n",
      "RangeIndex: 448447 entries, 0 to 448446\n",
      "Data columns (total 24 columns):\n",
      " #   Column                       Non-Null Count   Dtype  \n",
      "---  ------                       --------------   -----  \n",
      " 0   ID_CLIENTE                   448447 non-null  int64  \n",
      " 1   FORMA_AQUISICAO              448447 non-null  object \n",
      " 2   IDADE_CLIENTE                448447 non-null  int64  \n",
      " 3   SEXO                         448447 non-null  object \n",
      " 4   QT_FILHOS                    448193 non-null  float64\n",
      " 5   DT_AQUISICAO                 448447 non-null  object \n",
      " 6   DT_CANCELAMENTO              117455 non-null  object \n",
      " 7   DIAS_ATIVO                   448447 non-null  int64  \n",
      " 8   MESES_ATIVO                  448447 non-null  int64  \n",
      " 9   DURACAO_CONTRATO             448447 non-null  object \n",
      " 10  VL_PLANO_ADESAO              448447 non-null  int64  \n",
      " 11  VL_PLANO_ATUAL               448447 non-null  int64  \n",
      " 12  NOME_PRODUTO                 448447 non-null  object \n",
      " 13  QT_PONTOS_INSTALADOS         448447 non-null  int64  \n",
      " 14  QT_PC_PAGAS                  448447 non-null  int64  \n",
      " 15  QT_PC_VENCIDAS               448447 non-null  int64  \n",
      " 16  QT_PC_PAGA_ATRASO            448447 non-null  int64  \n",
      " 17  QT_PC_PAGA_EM_DIA            448447 non-null  int64  \n",
      " 18  QT_ACORDO_PAGAMENTO          448447 non-null  int64  \n",
      " 19  VL_MENSALIDADE_ATRASO        448447 non-null  int64  \n",
      " 20  VL_MENSALIDADE_DT_AQUISICAO  448447 non-null  int64  \n",
      " 21  VL_MENSALIDADE_DT_ATUAL      448447 non-null  int64  \n",
      " 22  SITUACAO                     448447 non-null  object \n",
      " 23  COD_SITUACAO                 448447 non-null  int64  \n",
      "dtypes: float64(1), int64(16), object(7)\n",
      "memory usage: 82.1+ MB\n"
     ]
    }
   ],
   "source": [
    "df_original.info()\n",
    "#informações sobre o tipo das variáveis"
   ]
  },
  {
   "cell_type": "code",
   "execution_count": 8,
   "id": "ce37980f",
   "metadata": {},
   "outputs": [
    {
     "name": "stdout",
     "output_type": "stream",
     "text": [
      "Período dos dados - De: 2001-01-01 Até 2021-06-29\n"
     ]
    }
   ],
   "source": [
    "#Período dos dados coletados\n",
    "inicio = pd.to_datetime(df_original['DT_AQUISICAO']).dt.date.min()\n",
    "fim = pd.to_datetime(df_original['DT_AQUISICAO']).dt.date.max()\n",
    "print('Período dos dados - De:', inicio, 'Até', fim)"
   ]
  },
  {
   "cell_type": "code",
   "execution_count": 9,
   "id": "5639b4e0",
   "metadata": {},
   "outputs": [
    {
     "data": {
      "text/html": [
       "<div>\n",
       "<style scoped>\n",
       "    .dataframe tbody tr th:only-of-type {\n",
       "        vertical-align: middle;\n",
       "    }\n",
       "\n",
       "    .dataframe tbody tr th {\n",
       "        vertical-align: top;\n",
       "    }\n",
       "\n",
       "    .dataframe thead th {\n",
       "        text-align: right;\n",
       "    }\n",
       "</style>\n",
       "<table border=\"1\" class=\"dataframe\">\n",
       "  <thead>\n",
       "    <tr style=\"text-align: right;\">\n",
       "      <th></th>\n",
       "      <th>ID_CLIENTE</th>\n",
       "      <th>IDADE_CLIENTE</th>\n",
       "      <th>QT_FILHOS</th>\n",
       "      <th>DIAS_ATIVO</th>\n",
       "      <th>MESES_ATIVO</th>\n",
       "      <th>VL_PLANO_ADESAO</th>\n",
       "      <th>VL_PLANO_ATUAL</th>\n",
       "      <th>QT_PONTOS_INSTALADOS</th>\n",
       "      <th>QT_PC_PAGAS</th>\n",
       "      <th>QT_PC_VENCIDAS</th>\n",
       "      <th>QT_PC_PAGA_ATRASO</th>\n",
       "      <th>QT_PC_PAGA_EM_DIA</th>\n",
       "      <th>QT_ACORDO_PAGAMENTO</th>\n",
       "      <th>VL_MENSALIDADE_ATRASO</th>\n",
       "      <th>VL_MENSALIDADE_DT_AQUISICAO</th>\n",
       "      <th>VL_MENSALIDADE_DT_ATUAL</th>\n",
       "      <th>COD_SITUACAO</th>\n",
       "    </tr>\n",
       "  </thead>\n",
       "  <tbody>\n",
       "    <tr>\n",
       "      <th>count</th>\n",
       "      <td>448447.000000</td>\n",
       "      <td>448447.000000</td>\n",
       "      <td>448193.000000</td>\n",
       "      <td>448447.000000</td>\n",
       "      <td>448447.000000</td>\n",
       "      <td>448447.000000</td>\n",
       "      <td>448447.000000</td>\n",
       "      <td>448447.000000</td>\n",
       "      <td>448447.000000</td>\n",
       "      <td>448447.000000</td>\n",
       "      <td>448447.000000</td>\n",
       "      <td>448447.000000</td>\n",
       "      <td>448447.000000</td>\n",
       "      <td>448447.000000</td>\n",
       "      <td>448447.000000</td>\n",
       "      <td>448447.000000</td>\n",
       "      <td>448447.000000</td>\n",
       "    </tr>\n",
       "    <tr>\n",
       "      <th>mean</th>\n",
       "      <td>224224.000000</td>\n",
       "      <td>38.891140</td>\n",
       "      <td>1.526385</td>\n",
       "      <td>483.857783</td>\n",
       "      <td>15.772457</td>\n",
       "      <td>303.769386</td>\n",
       "      <td>349.798596</td>\n",
       "      <td>1.625269</td>\n",
       "      <td>3.917281</td>\n",
       "      <td>1.019175</td>\n",
       "      <td>0.563596</td>\n",
       "      <td>3.353685</td>\n",
       "      <td>0.188029</td>\n",
       "      <td>337.364498</td>\n",
       "      <td>303.769386</td>\n",
       "      <td>349.798596</td>\n",
       "      <td>0.261915</td>\n",
       "    </tr>\n",
       "    <tr>\n",
       "      <th>std</th>\n",
       "      <td>129455.642421</td>\n",
       "      <td>6.682351</td>\n",
       "      <td>0.504288</td>\n",
       "      <td>373.649523</td>\n",
       "      <td>12.252344</td>\n",
       "      <td>113.612746</td>\n",
       "      <td>130.560943</td>\n",
       "      <td>0.579956</td>\n",
       "      <td>1.460079</td>\n",
       "      <td>1.474442</td>\n",
       "      <td>0.886314</td>\n",
       "      <td>1.586924</td>\n",
       "      <td>0.423095</td>\n",
       "      <td>525.953927</td>\n",
       "      <td>113.612746</td>\n",
       "      <td>130.560943</td>\n",
       "      <td>0.439677</td>\n",
       "    </tr>\n",
       "    <tr>\n",
       "      <th>min</th>\n",
       "      <td>1.000000</td>\n",
       "      <td>23.000000</td>\n",
       "      <td>0.000000</td>\n",
       "      <td>22.000000</td>\n",
       "      <td>1.000000</td>\n",
       "      <td>230.000000</td>\n",
       "      <td>265.000000</td>\n",
       "      <td>1.000000</td>\n",
       "      <td>0.000000</td>\n",
       "      <td>0.000000</td>\n",
       "      <td>0.000000</td>\n",
       "      <td>0.000000</td>\n",
       "      <td>0.000000</td>\n",
       "      <td>0.000000</td>\n",
       "      <td>230.000000</td>\n",
       "      <td>265.000000</td>\n",
       "      <td>0.000000</td>\n",
       "    </tr>\n",
       "    <tr>\n",
       "      <th>25%</th>\n",
       "      <td>112112.500000</td>\n",
       "      <td>35.000000</td>\n",
       "      <td>1.000000</td>\n",
       "      <td>167.000000</td>\n",
       "      <td>5.000000</td>\n",
       "      <td>230.000000</td>\n",
       "      <td>265.000000</td>\n",
       "      <td>1.000000</td>\n",
       "      <td>3.000000</td>\n",
       "      <td>0.000000</td>\n",
       "      <td>0.000000</td>\n",
       "      <td>2.000000</td>\n",
       "      <td>0.000000</td>\n",
       "      <td>0.000000</td>\n",
       "      <td>230.000000</td>\n",
       "      <td>265.000000</td>\n",
       "      <td>0.000000</td>\n",
       "    </tr>\n",
       "    <tr>\n",
       "      <th>50%</th>\n",
       "      <td>224224.000000</td>\n",
       "      <td>40.000000</td>\n",
       "      <td>2.000000</td>\n",
       "      <td>329.000000</td>\n",
       "      <td>11.000000</td>\n",
       "      <td>230.000000</td>\n",
       "      <td>265.000000</td>\n",
       "      <td>2.000000</td>\n",
       "      <td>4.000000</td>\n",
       "      <td>0.000000</td>\n",
       "      <td>0.000000</td>\n",
       "      <td>4.000000</td>\n",
       "      <td>0.000000</td>\n",
       "      <td>0.000000</td>\n",
       "      <td>230.000000</td>\n",
       "      <td>265.000000</td>\n",
       "      <td>0.000000</td>\n",
       "    </tr>\n",
       "    <tr>\n",
       "      <th>75%</th>\n",
       "      <td>336335.500000</td>\n",
       "      <td>43.000000</td>\n",
       "      <td>2.000000</td>\n",
       "      <td>798.000000</td>\n",
       "      <td>26.000000</td>\n",
       "      <td>350.000000</td>\n",
       "      <td>403.000000</td>\n",
       "      <td>2.000000</td>\n",
       "      <td>5.000000</td>\n",
       "      <td>2.000000</td>\n",
       "      <td>1.000000</td>\n",
       "      <td>5.000000</td>\n",
       "      <td>0.000000</td>\n",
       "      <td>794.000000</td>\n",
       "      <td>350.000000</td>\n",
       "      <td>403.000000</td>\n",
       "      <td>1.000000</td>\n",
       "    </tr>\n",
       "    <tr>\n",
       "      <th>max</th>\n",
       "      <td>448447.000000</td>\n",
       "      <td>55.000000</td>\n",
       "      <td>25.000000</td>\n",
       "      <td>1296.000000</td>\n",
       "      <td>42.000000</td>\n",
       "      <td>600.000000</td>\n",
       "      <td>690.000000</td>\n",
       "      <td>3.000000</td>\n",
       "      <td>100.000000</td>\n",
       "      <td>38.000000</td>\n",
       "      <td>17.000000</td>\n",
       "      <td>100.000000</td>\n",
       "      <td>5.000000</td>\n",
       "      <td>16043.000000</td>\n",
       "      <td>600.000000</td>\n",
       "      <td>690.000000</td>\n",
       "      <td>1.000000</td>\n",
       "    </tr>\n",
       "  </tbody>\n",
       "</table>\n",
       "</div>"
      ],
      "text/plain": [
       "          ID_CLIENTE  IDADE_CLIENTE      QT_FILHOS     DIAS_ATIVO  \\\n",
       "count  448447.000000  448447.000000  448193.000000  448447.000000   \n",
       "mean   224224.000000      38.891140       1.526385     483.857783   \n",
       "std    129455.642421       6.682351       0.504288     373.649523   \n",
       "min         1.000000      23.000000       0.000000      22.000000   \n",
       "25%    112112.500000      35.000000       1.000000     167.000000   \n",
       "50%    224224.000000      40.000000       2.000000     329.000000   \n",
       "75%    336335.500000      43.000000       2.000000     798.000000   \n",
       "max    448447.000000      55.000000      25.000000    1296.000000   \n",
       "\n",
       "         MESES_ATIVO  VL_PLANO_ADESAO  VL_PLANO_ATUAL  QT_PONTOS_INSTALADOS  \\\n",
       "count  448447.000000    448447.000000   448447.000000         448447.000000   \n",
       "mean       15.772457       303.769386      349.798596              1.625269   \n",
       "std        12.252344       113.612746      130.560943              0.579956   \n",
       "min         1.000000       230.000000      265.000000              1.000000   \n",
       "25%         5.000000       230.000000      265.000000              1.000000   \n",
       "50%        11.000000       230.000000      265.000000              2.000000   \n",
       "75%        26.000000       350.000000      403.000000              2.000000   \n",
       "max        42.000000       600.000000      690.000000              3.000000   \n",
       "\n",
       "         QT_PC_PAGAS  QT_PC_VENCIDAS  QT_PC_PAGA_ATRASO  QT_PC_PAGA_EM_DIA  \\\n",
       "count  448447.000000   448447.000000      448447.000000      448447.000000   \n",
       "mean        3.917281        1.019175           0.563596           3.353685   \n",
       "std         1.460079        1.474442           0.886314           1.586924   \n",
       "min         0.000000        0.000000           0.000000           0.000000   \n",
       "25%         3.000000        0.000000           0.000000           2.000000   \n",
       "50%         4.000000        0.000000           0.000000           4.000000   \n",
       "75%         5.000000        2.000000           1.000000           5.000000   \n",
       "max       100.000000       38.000000          17.000000         100.000000   \n",
       "\n",
       "       QT_ACORDO_PAGAMENTO  VL_MENSALIDADE_ATRASO  \\\n",
       "count        448447.000000          448447.000000   \n",
       "mean              0.188029             337.364498   \n",
       "std               0.423095             525.953927   \n",
       "min               0.000000               0.000000   \n",
       "25%               0.000000               0.000000   \n",
       "50%               0.000000               0.000000   \n",
       "75%               0.000000             794.000000   \n",
       "max               5.000000           16043.000000   \n",
       "\n",
       "       VL_MENSALIDADE_DT_AQUISICAO  VL_MENSALIDADE_DT_ATUAL   COD_SITUACAO  \n",
       "count                448447.000000            448447.000000  448447.000000  \n",
       "mean                    303.769386               349.798596       0.261915  \n",
       "std                     113.612746               130.560943       0.439677  \n",
       "min                     230.000000               265.000000       0.000000  \n",
       "25%                     230.000000               265.000000       0.000000  \n",
       "50%                     230.000000               265.000000       0.000000  \n",
       "75%                     350.000000               403.000000       1.000000  \n",
       "max                     600.000000               690.000000       1.000000  "
      ]
     },
     "execution_count": 9,
     "metadata": {},
     "output_type": "execute_result"
    }
   ],
   "source": [
    "#Resumo estatistíco\n",
    "df_original.describe()"
   ]
  },
  {
   "cell_type": "code",
   "execution_count": 10,
   "id": "7e950c38",
   "metadata": {},
   "outputs": [
    {
     "name": "stdout",
     "output_type": "stream",
     "text": [
      "ID_CLIENTE                          0\n",
      "FORMA_AQUISICAO                     0\n",
      "IDADE_CLIENTE                       0\n",
      "SEXO                                0\n",
      "QT_FILHOS                         254\n",
      "DT_AQUISICAO                        0\n",
      "DT_CANCELAMENTO                330992\n",
      "DIAS_ATIVO                          0\n",
      "MESES_ATIVO                         0\n",
      "DURACAO_CONTRATO                    0\n",
      "VL_PLANO_ADESAO                     0\n",
      "VL_PLANO_ATUAL                      0\n",
      "NOME_PRODUTO                        0\n",
      "QT_PONTOS_INSTALADOS                0\n",
      "QT_PC_PAGAS                         0\n",
      "QT_PC_VENCIDAS                      0\n",
      "QT_PC_PAGA_ATRASO                   0\n",
      "QT_PC_PAGA_EM_DIA                   0\n",
      "QT_ACORDO_PAGAMENTO                 0\n",
      "VL_MENSALIDADE_ATRASO               0\n",
      "VL_MENSALIDADE_DT_AQUISICAO         0\n",
      "VL_MENSALIDADE_DT_ATUAL             0\n",
      "SITUACAO                            0\n",
      "COD_SITUACAO                        0\n",
      "dtype: int64\n"
     ]
    }
   ],
   "source": [
    "#PASSO IMPORTANTE!\n",
    "#Verificando se há valores missing\n",
    "print(df_original.isna().sum())\n",
    "#ISNA = IS NAN = É NAN(NULO)\n",
    "\n",
    "#QT_FILHOS TEM 254 VALORES EM BRANCO\n",
    "#DT CANCELAMENTO É NORMAL NÃO TER"
   ]
  },
  {
   "cell_type": "code",
   "execution_count": 11,
   "id": "1c0c4c05",
   "metadata": {},
   "outputs": [
    {
     "data": {
      "text/plain": [
       "ID_CLIENTE                     448447\n",
       "FORMA_AQUISICAO                     2\n",
       "IDADE_CLIENTE                      33\n",
       "SEXO                                2\n",
       "QT_FILHOS                           7\n",
       "DT_AQUISICAO                     5888\n",
       "DT_CANCELAMENTO                  5304\n",
       "DIAS_ATIVO                       1051\n",
       "MESES_ATIVO                        42\n",
       "DURACAO_CONTRATO                    4\n",
       "VL_PLANO_ADESAO                     6\n",
       "VL_PLANO_ATUAL                      6\n",
       "NOME_PRODUTO                        6\n",
       "QT_PONTOS_INSTALADOS                3\n",
       "QT_PC_PAGAS                        31\n",
       "QT_PC_VENCIDAS                     31\n",
       "QT_PC_PAGA_ATRASO                   9\n",
       "QT_PC_PAGA_EM_DIA                  30\n",
       "QT_ACORDO_PAGAMENTO                 6\n",
       "VL_MENSALIDADE_ATRASO              80\n",
       "VL_MENSALIDADE_DT_AQUISICAO         6\n",
       "VL_MENSALIDADE_DT_ATUAL             6\n",
       "SITUACAO                            2\n",
       "COD_SITUACAO                        2\n",
       "dtype: int64"
      ]
     },
     "execution_count": 11,
     "metadata": {},
     "output_type": "execute_result"
    }
   ],
   "source": [
    "#Verificando valores únicos\n",
    "df_original.nunique()\n",
    "\n",
    "#(BOM PARA VER VARIÁVEIS CATEGÓRICAS E NUMÉRICAS)"
   ]
  },
  {
   "cell_type": "markdown",
   "id": "1e602d24",
   "metadata": {},
   "source": [
    "## Analisando Variáveis Categóricas\n",
    "\n",
    "-> Forma_Aquisicao, sexo, duracao_contrato, nome_produto, situacao"
   ]
  },
  {
   "cell_type": "code",
   "execution_count": 12,
   "id": "60803348",
   "metadata": {},
   "outputs": [
    {
     "data": {
      "text/plain": [
       "FORMA_AQUISICAO\n",
       "Site        321376\n",
       "Vendedor    127071\n",
       "dtype: int64"
      ]
     },
     "execution_count": 12,
     "metadata": {},
     "output_type": "execute_result"
    }
   ],
   "source": [
    "#Agrupar valores da variável\n",
    "df_original.groupby(['FORMA_AQUISICAO']).size()\n",
    "\n",
    "\n",
    "#Possível ver que existe apenas 2: SITE OU VENDEDOR"
   ]
  },
  {
   "cell_type": "code",
   "execution_count": 13,
   "id": "4c9081b5",
   "metadata": {},
   "outputs": [
    {
     "data": {
      "text/plain": [
       "SEXO\n",
       "FEMININO     224223\n",
       "MASCULINO    224224\n",
       "dtype: int64"
      ]
     },
     "execution_count": 13,
     "metadata": {},
     "output_type": "execute_result"
    }
   ],
   "source": [
    "df_original.groupby(['SEXO']).size()\n",
    "\n",
    "#Apenas 2: MASCULINO OU FEMININO"
   ]
  },
  {
   "cell_type": "code",
   "execution_count": 14,
   "id": "789fbc20",
   "metadata": {},
   "outputs": [
    {
     "data": {
      "text/plain": [
       "DURACAO_CONTRATO\n",
       "12 Meses       195\n",
       "24 Meses       235\n",
       "36 Meses     31889\n",
       "48 Meses    416128\n",
       "dtype: int64"
      ]
     },
     "execution_count": 14,
     "metadata": {},
     "output_type": "execute_result"
    }
   ],
   "source": [
    "df_original.groupby(['DURACAO_CONTRATO']).size()\n",
    "\n",
    "# 4 TIPOS: 12 MESES / 24 MESES / 36 MESES / 48 MESES "
   ]
  },
  {
   "cell_type": "code",
   "execution_count": 15,
   "id": "d871dcb1",
   "metadata": {},
   "outputs": [
    {
     "data": {
      "text/plain": [
       "NOME_PRODUTO\n",
       "PLANO BASICO (30 CANAIS HD)         285209\n",
       "PLANO BASICO PLUS (50 CANAIS HD)      8835\n",
       "PLANO FAMILIA (100 CANAIS HD)        59716\n",
       "PLANO MEDIO A (60 CANAIS HD)         62221\n",
       "PLANO MEDIO TOP (90 CANAIS HD)         295\n",
       "PLANO PREMIUM TOTAL                  32171\n",
       "dtype: int64"
      ]
     },
     "execution_count": 15,
     "metadata": {},
     "output_type": "execute_result"
    }
   ],
   "source": [
    "df_original.groupby(['NOME_PRODUTO']).size()\n",
    "\n",
    "#6 NOMES PARA CADA 'PLANO'"
   ]
  },
  {
   "cell_type": "code",
   "execution_count": 16,
   "id": "d4aa35c1",
   "metadata": {},
   "outputs": [
    {
     "data": {
      "text/plain": [
       "SITUACAO\n",
       "ATIVO        330992\n",
       "CANCELADO    117455\n",
       "dtype: int64"
      ]
     },
     "execution_count": 16,
     "metadata": {},
     "output_type": "execute_result"
    }
   ],
   "source": [
    "df_original.groupby(['SITUACAO']).size()\n",
    "\n",
    "#OU ESTÁ ATIVO OU CANCELADO"
   ]
  },
  {
   "cell_type": "code",
   "execution_count": 17,
   "id": "5bbcfaf2",
   "metadata": {},
   "outputs": [
    {
     "data": {
      "image/png": "[encoded data removed]",
      "text/plain": [
       "<Figure size 1200x350 with 2 Axes>"
      ]
     },
     "metadata": {},
     "output_type": "display_data"
    }
   ],
   "source": [
    "# Analisando o gráfico da variavel FORMA_AQUISICAO e SEXO comparadas a variável ALVO\n",
    "#Podemos constatar na analise que não há discrepancias nestas variaveis\n",
    "\n",
    "plt.rcParams[\"figure.figsize\"] = [12.00, 3.50]\n",
    "plt.rcParams[\"figure.autolayout\"] = True\n",
    "f, axes = plt.subplots(1, 2)\n",
    "sns.countplot(data = df_original, x = \"SEXO\", hue = \"SITUACAO\", ax=axes[0])\n",
    "sns.countplot(data = df_original, x = \"FORMA_AQUISICAO\", hue = \"SITUACAO\", ax=axes[1])\n",
    "plt.show()"
   ]
  },
  {
   "cell_type": "code",
   "execution_count": 18,
   "id": "881bcbb0",
   "metadata": {},
   "outputs": [
    {
     "data": {
      "image/png": "[encoded data removed]",
      "text/plain": [
       "<Figure size 1200x500 with 1 Axes>"
      ]
     },
     "metadata": {},
     "output_type": "display_data"
    }
   ],
   "source": [
    "# Analisando o gráfico da variavel DURACAO_CONTRATO comparadas a variável ALVO\n",
    "#Podemos constatar na analise que não há discrepancias nestas variaveis\n",
    "plt.rcParams[\"figure.figsize\"] = [12.00, 5.00]\n",
    "plt.rcParams[\"figure.autolayout\"] = True\n",
    "sns.countplot(data = df_original, x = \"DURACAO_CONTRATO\", hue = \"SITUACAO\")\n",
    "plt.show()"
   ]
  },
  {
   "cell_type": "code",
   "execution_count": 19,
   "id": "34725040",
   "metadata": {},
   "outputs": [
    {
     "data": {
      "image/png": "[encoded data removed]",
      "text/plain": [
       "<Figure size 1700x500 with 1 Axes>"
      ]
     },
     "metadata": {},
     "output_type": "display_data"
    }
   ],
   "source": [
    "# Analisando o gráfico da variavel NOME_PRODUTO comparadas a variável ALVO\n",
    "#Podemos constatar na analise que não há discrepancias nestas variaveis\n",
    "plt.rcParams[\"figure.figsize\"] = [17.00, 5.00]\n",
    "plt.rcParams[\"figure.autolayout\"] = True\n",
    "sns.countplot(data = df_original, x = \"NOME_PRODUTO\", hue = \"SITUACAO\")\n",
    "plt.show()"
   ]
  },
  {
   "cell_type": "code",
   "execution_count": 20,
   "id": "99e1c0b7",
   "metadata": {},
   "outputs": [
    {
     "data": {
      "image/png": "[encoded data removed]",
      "text/plain": [
       "<Figure size 1200x500 with 1 Axes>"
      ]
     },
     "metadata": {},
     "output_type": "display_data"
    }
   ],
   "source": [
    "#Analisando como a variavel alvo está distribuida.\n",
    "#Aqui podemos observar que há muito mais CLIENTES ATIVOS do que CLIENTES CANCELADOS\n",
    "#dessa forma, precisaremos balancear o dataset na etapa 2 - Tratamento de Dados.\n",
    "plt.rcParams[\"figure.figsize\"] = [12.00, 5.00]\n",
    "plt.rcParams[\"figure.autolayout\"] = True\n",
    "df_original.SITUACAO.value_counts().plot(kind='bar', title='Clientes Ativos x Cancelados',color = ['#1F77B4', '#FF7F0E']);"
   ]
  },
  {
   "cell_type": "markdown",
   "id": "5d9c860e",
   "metadata": {},
   "source": [
    "## Analisando Variáveis Numéricas\n",
    "(Muito mais numérica doque categórica)"
   ]
  },
  {
   "cell_type": "code",
   "execution_count": 22,
   "id": "0db541c5",
   "metadata": {},
   "outputs": [
    {
     "name": "stdout",
     "output_type": "stream",
     "text": [
      "IDADE_CLIENTE : int64\n",
      "QT_FILHOS : float64\n",
      "DIAS_ATIVO : int64\n",
      "MESES_ATIVO : int64\n",
      "VL_PLANO_ADESAO : int64\n",
      "VL_PLANO_ATUAL : int64\n",
      "QT_PONTOS_INSTALADOS : int64\n",
      "QT_PC_PAGAS : int64\n",
      "QT_PC_VENCIDAS : int64\n",
      "QT_PC_PAGA_ATRASO : int64\n",
      "QT_PC_PAGA_EM_DIA : int64\n",
      "QT_ACORDO_PAGAMENTO : int64\n",
      "VL_MENSALIDADE_ATRASO : int64\n",
      "VL_MENSALIDADE_DT_AQUISICAO : int64\n",
      "VL_MENSALIDADE_DT_ATUAL : int64\n",
      "COD_SITUACAO : int64\n"
     ]
    }
   ],
   "source": [
    "# Carregar variaveis para plot\n",
    "# Pegaremos a partir da variavel 1 porque o ID_CLIENTE não iremos utilizar\n",
    "variaveis_numericas = []\n",
    "for i in df_original.columns[1:24].tolist():\n",
    "        if df_original.dtypes[i] == 'int64' or df_original.dtypes[i] == 'float64':            \n",
    "            print(i, ':' , df_original.dtypes[i]) \n",
    "            variaveis_numericas.append(i)    "
   ]
  },
  {
   "cell_type": "code",
   "execution_count": null,
   "id": "53b460d6",
   "metadata": {},
   "outputs": [],
   "source": []
  }
 ],
 "metadata": {
  "kernelspec": {
   "display_name": "Python 3 (ipykernel)",
   "language": "python",
   "name": "python3"
  },
  "language_info": {
   "codemirror_mode": {
    "name": "ipython",
    "version": 3
   },
   "file_extension": ".py",
   "mimetype": "text/x-python",
   "name": "python",
   "nbconvert_exporter": "python",
   "pygments_lexer": "ipython3",
   "version": "3.11.5"
  }
 },
 "nbformat": 4,
 "nbformat_minor": 5
}
